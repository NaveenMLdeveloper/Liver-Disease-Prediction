{
 "cells": [
  {
   "cell_type": "code",
   "execution_count": 1,
   "id": "fa20ed55-5bd7-4f73-8977-7a95b4e77331",
   "metadata": {},
   "outputs": [],
   "source": [
    "import pandas as pd\n",
    "import numpy as np \n",
    "import matplotlib.pyplot as plt\n",
    "import seaborn as sns \n",
    "from sklearn.model_selection import train_test_split\n",
    "from sklearn.impute import SimpleImputer\n",
    "from sklearn.preprocessing import LabelEncoder\n",
    "from sklearn.svm import SVC\n",
    "from sklearn.linear_model import LogisticRegression\n",
    "from sklearn.ensemble import RandomForestClassifier\n",
    "from sklearn.metrics import(\n",
    "    accuracy_score,\n",
    "    precision_score,\n",
    "    recall_score,\n",
    "    f1_score,\n",
    "    roc_auc_score,\n",
    "    classification_report,\n",
    "    confusion_matrix\n",
    ")"
   ]
  },
  {
   "cell_type": "code",
   "execution_count": null,
   "id": "869b09f4-d661-41cd-8f3f-607091d9fd69",
   "metadata": {},
   "outputs": [],
   "source": [
    "df=pd.read_csv('D:/AI & ML/ML project/liver disecs prediction/dataset/Liver Patient Dataset (LPD)_train.csv')\n",
    "df.head()"
   ]
  },
  {
   "cell_type": "code",
   "execution_count": null,
   "id": "fde8e3c0-e40a-48f8-b562-85a74afeb129",
   "metadata": {},
   "outputs": [],
   "source": [
    "AAP=202\n",
    "SGPT=22\n",
    "TB=0.9\n",
    "DB=0.3\n",
    "SGOT=19\n",
    "AGR=1.2\n",
    "ALBA=4.1\n",
    "AGE=65\n",
    "GEN=1\n",
    "TP=6.8\n",
    "\n",
    "input=np.array([AGE,GEN,TB,DB,AAP,SGPT,SGOT,TP,ALBA,AGR])\n",
    "columns=['AGE','GEN','TB','DB','AAP','SGPT','SGOT','TP','ALBA','AGR']\n",
    "input_df =pd.DataFrame(input.reshape(1,-1),columns=columns)"
   ]
  },
  {
   "cell_type": "code",
   "execution_count": null,
   "id": "e3a9af46-93c0-410a-a5dd-c28ba06b6cc0",
   "metadata": {},
   "outputs": [],
   "source": [
    "df=pd.read_csv('D:/AI & ML/ML project/liver disecs prediction/dataset/Liver Patient Dataset (LPD)_train.csv',encoding='unicode_escape')\n",
    "print(df.columns)\n",
    "print(input_df.columns)"
   ]
  },
  {
   "cell_type": "code",
   "execution_count": null,
   "id": "17fedbec-f57b-43da-b593-93d98333d52a",
   "metadata": {},
   "outputs": [],
   "source": [
    "r={'Age of the patient':'AGE','Gender of the patient':'GEN','Total Bilrirubin':'TB','Direct Bilirubin':'DB',\n",
    "  'Alkphos Alkaline Phosphotase':'AAP','Sgpt Alamine Aminotransferase':'SGPT',\n",
    "  'Sgot Aspartate Aminotransferase':'SGOT','Total Protiens':'TP','ALB Albumin':'ALBA',\n",
    "  'A/G Ratio Albumin and Globulin Ratio':'AGR','Result':'Result'}"
   ]
  },
  {
   "cell_type": "code",
   "execution_count": null,
   "id": "e87090cf-9cae-4e35-af6a-04dd4d9fd69a",
   "metadata": {},
   "outputs": [],
   "source": [
    "df.rename(columns=r,inplace=True)"
   ]
  },
  {
   "cell_type": "code",
   "execution_count": null,
   "id": "db5cf59b-7052-4143-a04a-5ecdcee7d4d6",
   "metadata": {},
   "outputs": [],
   "source": [
    "df.head(10)"
   ]
  },
  {
   "cell_type": "code",
   "execution_count": null,
   "id": "9a10a7d2-fe36-4da9-a193-da8d1d26fcf0",
   "metadata": {},
   "outputs": [],
   "source": [
    "df.shape"
   ]
  },
  {
   "cell_type": "code",
   "execution_count": null,
   "id": "8b69f524-c19c-4d89-a6a6-d0b633124a99",
   "metadata": {},
   "outputs": [],
   "source": [
    "d_target={1:1,2:0}\n",
    "df.replace({'Result':d_target},inplace=True)\n",
    "df.Result.value_counts()"
   ]
  },
  {
   "cell_type": "code",
   "execution_count": null,
   "id": "009fb896-67ac-442e-a92d-071c86f5850e",
   "metadata": {},
   "outputs": [],
   "source": [
    "df.describe()"
   ]
  },
  {
   "cell_type": "code",
   "execution_count": null,
   "id": "01a2761b-1e6e-446d-8949-d9de7e556ea4",
   "metadata": {},
   "outputs": [],
   "source": [
    "df_num=df.select_dtypes(include=[np.number])\n",
    "df_cat=df.select_dtypes(include=[object])\n",
    "num_cols=df_num.columns.values[:-1]\n",
    "cat_cols=df_cat.columns.values\n",
    "print(num_cols)\n",
    "print(cat_cols)"
   ]
  },
  {
   "cell_type": "code",
   "execution_count": null,
   "id": "f0930fe9-9f85-48cc-b2f6-aaae4e1c336f",
   "metadata": {},
   "outputs": [],
   "source": [
    "df.head(10)"
   ]
  },
  {
   "cell_type": "code",
   "execution_count": null,
   "id": "1c4fd085-f16a-4227-a245-2137419509eb",
   "metadata": {},
   "outputs": [],
   "source": [
    "df.isna().sum().sort_values(ascending=False)"
   ]
  },
  {
   "cell_type": "code",
   "execution_count": null,
   "id": "bee9e143-8792-4593-93e8-3ee7d06218ca",
   "metadata": {},
   "outputs": [],
   "source": [
    "df.drop_duplicates(inplace=True)"
   ]
  },
  {
   "cell_type": "code",
   "execution_count": null,
   "id": "763f0225-2a0f-4269-accf-dd3c1ff29bff",
   "metadata": {},
   "outputs": [],
   "source": [
    "df.describe()"
   ]
  },
  {
   "cell_type": "code",
   "execution_count": null,
   "id": "a1c687ea-d1ff-48e8-8bfc-6ce1c380236c",
   "metadata": {},
   "outputs": [],
   "source": [
    "df.isna().sum().sort_values(ascending=False)"
   ]
  },
  {
   "cell_type": "code",
   "execution_count": null,
   "id": "ceeb1f36-3c35-420f-a164-2772b7162e6e",
   "metadata": {},
   "outputs": [],
   "source": [
    "df.isna().mean().mul(100).sort_values(ascending=False)"
   ]
  },
  {
   "cell_type": "code",
   "execution_count": null,
   "id": "e61beac3-4bb9-4920-bd09-bc15d4078402",
   "metadata": {},
   "outputs": [],
   "source": [
    "for col in num_cols:\n",
    "    if df[col].isna().mean()*100<15:\n",
    "        cur_mean=np.mean(df[col])\n",
    "        df[col]=df[col].fillna(cur_mean)"
   ]
  },
  {
   "cell_type": "code",
   "execution_count": null,
   "id": "81cebbe8-712e-44dd-9394-ebce812e00c4",
   "metadata": {},
   "outputs": [],
   "source": [
    "df.isna().mean().mul(100).sort_values(ascending=False)"
   ]
  },
  {
   "cell_type": "code",
   "execution_count": null,
   "id": "58948cc6-00d3-42cf-ad74-79d63acadad6",
   "metadata": {},
   "outputs": [],
   "source": [
    "df.isna().sum().sort_values(ascending=False)"
   ]
  },
  {
   "cell_type": "code",
   "execution_count": null,
   "id": "82f932df-b2fd-4158-bd71-2557d365fba8",
   "metadata": {},
   "outputs": [],
   "source": [
    "df.dropna(inplace=True)"
   ]
  },
  {
   "cell_type": "code",
   "execution_count": null,
   "id": "8e9e5fa5-2608-4de3-83e0-e5fe65e8fb0c",
   "metadata": {},
   "outputs": [],
   "source": [
    "df.describe()"
   ]
  },
  {
   "cell_type": "code",
   "execution_count": null,
   "id": "750757f1-22bb-4c4c-9dea-9cf8dc64468b",
   "metadata": {},
   "outputs": [],
   "source": [
    "df.isna().mean().mul(100).sort_values(ascending=False)"
   ]
  },
  {
   "cell_type": "code",
   "execution_count": null,
   "id": "1be359d7-9465-4693-ad91-ecab0d551f22",
   "metadata": {},
   "outputs": [],
   "source": [
    "df.isna().sum().sort_values(ascending=False)"
   ]
  },
  {
   "cell_type": "code",
   "execution_count": null,
   "id": "40af5ab0-3719-429b-9df0-4ae9aca2e49e",
   "metadata": {},
   "outputs": [],
   "source": [
    "df.head(10)"
   ]
  },
  {
   "cell_type": "code",
   "execution_count": null,
   "id": "bb973727-bc7c-4ace-b628-84a54494ae8a",
   "metadata": {},
   "outputs": [],
   "source": [
    "df.shape"
   ]
  },
  {
   "cell_type": "code",
   "execution_count": null,
   "id": "1fb75cba-47b9-4228-b26c-bff671327494",
   "metadata": {},
   "outputs": [],
   "source": [
    "df.Result.value_counts()"
   ]
  },
  {
   "cell_type": "code",
   "execution_count": null,
   "id": "ac8f9227-7e95-4eef-875a-2c74cace287b",
   "metadata": {},
   "outputs": [],
   "source": [
    "enc=LabelEncoder()\n",
    "df['GEN']=enc.fit_transform(df['GEN'])"
   ]
  },
  {
   "cell_type": "code",
   "execution_count": null,
   "id": "a75549da-8b1a-464f-93f9-8ca700b7eaa6",
   "metadata": {},
   "outputs": [],
   "source": [
    "for feature in df.columns:\n",
    "    print(feature,\":\",len(df[feature].unique()))"
   ]
  },
  {
   "cell_type": "code",
   "execution_count": null,
   "id": "6bd92fb9-40c8-4e4b-af1a-7b75c05b2b80",
   "metadata": {},
   "outputs": [],
   "source": [
    "print(df['GEN'].unique())"
   ]
  },
  {
   "cell_type": "code",
   "execution_count": null,
   "id": "dd35ad0a-5f11-4e86-b731-baa4f3f8535b",
   "metadata": {},
   "outputs": [],
   "source": [
    "\n",
    "\n",
    "# Iterate through each column\n",
    "for column in  num_cols:\n",
    "    # Calculate quartiles and IQR\n",
    "    q1 = df[column].quantile(0.25)\n",
    "    q3 = df[column].quantile(0.75)\n",
    "    iqr = q3 - q1\n",
    "    \n",
    "    # Calculate box plot boundaries\n",
    "    box_min = q1 - (1.5 * iqr)\n",
    "    box_max = q3 + (1.5 * iqr)\n",
    "    \n",
    "    # Display results\n",
    "    print(f\"Column: {column}\")\n",
    "    print(f\"Q1 (First Quartile): {q1}\")\n",
    "    print(f\"Q3 (Third Quartile): {q3}\")\n",
    "    print(f\"IQR (Interquartile Range): {iqr}\")\n",
    "    print(f\"Box Plot Minimum: {box_min}\")\n",
    "    print(f\"Box Plot Maximum: {box_max}\")\n",
    "    print(\"--------------------------\")\n"
   ]
  },
  {
   "cell_type": "code",
   "execution_count": null,
   "id": "05e9985f-35d9-47b6-b5af-1eeeb0fa030e",
   "metadata": {},
   "outputs": [],
   "source": [
    "for col in num_cols:\n",
    "    Q1, Q3 = df.loc[:,col].quantile([0.25,0.75]).values\n",
    "    IQR = Q3-Q1\n",
    "    box_max = Q3+(1.5*IQR)\n",
    "    box_min = Q1-(1.5*IQR)\n",
    "    df.loc[df[col]<box_min, col] = np.NaN\n",
    "    df.loc[df[col]>box_max, col] = np.NaN"
   ]
  },
  {
   "cell_type": "code",
   "execution_count": null,
   "id": "bf601ce5-4f1b-404e-8d00-cb0122f17612",
   "metadata": {},
   "outputs": [],
   "source": [
    "df.isna().sum().sort_values(ascending=False)"
   ]
  },
  {
   "cell_type": "code",
   "execution_count": null,
   "id": "2e510ab7-3bf5-4c18-861b-90450455e694",
   "metadata": {},
   "outputs": [],
   "source": [
    "df.dropna(inplace=True)"
   ]
  },
  {
   "cell_type": "code",
   "execution_count": null,
   "id": "115d9984-8233-49ea-8735-e497dcd581fa",
   "metadata": {},
   "outputs": [],
   "source": [
    "df.isna().sum().sort_values(ascending=False)"
   ]
  },
  {
   "cell_type": "code",
   "execution_count": null,
   "id": "f03aca55-3ba7-4648-b0da-0ecfa56fcf5a",
   "metadata": {},
   "outputs": [],
   "source": [
    "df.describe()"
   ]
  },
  {
   "cell_type": "code",
   "execution_count": null,
   "id": "ea357310-5eb8-4875-b39a-950760755891",
   "metadata": {},
   "outputs": [],
   "source": [
    "df.Result.value_counts()"
   ]
  },
  {
   "cell_type": "code",
   "execution_count": null,
   "id": "be69340b-248b-489a-b2c5-683cd8fb4d1c",
   "metadata": {},
   "outputs": [],
   "source": [
    "df.shape"
   ]
  },
  {
   "cell_type": "code",
   "execution_count": null,
   "id": "76ef9ad6-8767-4604-b8f2-e46108e78175",
   "metadata": {},
   "outputs": [],
   "source": [
    "sns.set(style=\"darkgrid\")\n",
    "plt.figure(figsize=(6, 4))  # Adjust the figure size if needed\n",
    "sns.countplot(x='Result', data=df, palette='pastel')\n",
    "plt.title('Distribution of Result')\n",
    "plt.xlabel('Result')\n",
    "plt.ylabel('Count')\n",
    "plt.show()"
   ]
  },
  {
   "cell_type": "code",
   "execution_count": null,
   "id": "3e32e2ea-ff35-4cc7-bd91-c08f774fecf0",
   "metadata": {},
   "outputs": [],
   "source": [
    "df.head(10)"
   ]
  },
  {
   "cell_type": "code",
   "execution_count": null,
   "id": "b6006c5e-509e-4625-b69a-4e71b2886091",
   "metadata": {},
   "outputs": [],
   "source": [
    "print(type(num_cols))\n",
    "print(type(cat_cols))"
   ]
  },
  {
   "cell_type": "code",
   "execution_count": null,
   "id": "eea30c3c-dd15-4b0b-bd5c-7bcebba917ed",
   "metadata": {},
   "outputs": [],
   "source": [
    "print(type(df))"
   ]
  },
  {
   "cell_type": "code",
   "execution_count": null,
   "id": "2b007470-ab0f-4d43-9781-97a7a984898b",
   "metadata": {},
   "outputs": [],
   "source": [
    "from sklearn.model_selection import StratifiedKFold\n",
    "from sklearn.preprocessing import StandardScaler"
   ]
  },
  {
   "cell_type": "code",
   "execution_count": null,
   "id": "fb09b4d0-b792-4273-a4f8-5ebeae15cd5e",
   "metadata": {},
   "outputs": [],
   "source": [
    "X=df.drop(['Result'],axis=1)\n",
    "y=df.Result"
   ]
  },
  {
   "cell_type": "code",
   "execution_count": null,
   "id": "6484abf7-2574-480b-b2c0-ffb46426753d",
   "metadata": {},
   "outputs": [],
   "source": [
    "X"
   ]
  },
  {
   "cell_type": "code",
   "execution_count": null,
   "id": "ca830dc5-ba67-49f5-a374-b85f7d8b28a5",
   "metadata": {},
   "outputs": [],
   "source": [
    "y"
   ]
  },
  {
   "cell_type": "code",
   "execution_count": null,
   "id": "7b62800d-d5f1-4ce3-bf68-6a33073e3883",
   "metadata": {},
   "outputs": [],
   "source": [
    "skf=StratifiedKFold(n_splits=5, shuffle=True,random_state=15)"
   ]
  },
  {
   "cell_type": "code",
   "execution_count": null,
   "id": "bc5fe342-c6d5-4825-b5b7-d22781557cf1",
   "metadata": {},
   "outputs": [],
   "source": [
    "scaler=StandardScaler()"
   ]
  },
  {
   "cell_type": "code",
   "execution_count": null,
   "id": "51b31614-62b9-4787-9e93-2f5594878717",
   "metadata": {},
   "outputs": [],
   "source": [
    "metrics=pd.DataFrame(index=['Accuracy','Precission','Recall','F1_score','ROC_AUC'])"
   ]
  },
  {
   "cell_type": "code",
   "execution_count": null,
   "id": "886d27db-f1f9-40a5-8dbe-64c769787fd8",
   "metadata": {},
   "outputs": [],
   "source": [
    "confussion_matrix_list=[]"
   ]
  },
  {
   "cell_type": "code",
   "execution_count": null,
   "id": "85f38a93-756c-45b2-84ca-23d4f1610b7a",
   "metadata": {},
   "outputs": [],
   "source": [
    "random_forest_best_params={'boostrap':True,'criterion':'log_loss',\n",
    "                          'max_depth':70,'max_features':'log2',\n",
    "                          'n_estimators':500}\n",
    "random_forest_best_score=0.9997873910277993"
   ]
  },
  {
   "cell_type": "code",
   "execution_count": null,
   "id": "580b600c-e9c5-4f28-9e2f-f5312240acf5",
   "metadata": {},
   "outputs": [],
   "source": [
    "random_forest_best_params = {\n",
    "    'n_estimators': 100,\n",
    "    'max_depth': 10,\n",
    "    'bootstrap': True,  # Ensure this is spelled correctly\n",
    "    # Add other parameters as needed\n",
    "}\n",
    "\n",
    "random_forest = RandomForestClassifier(**random_forest_best_params)\n",
    "\n",
    "Accuracy = []\n",
    "Precission = []\n",
    "Recall = []\n",
    "F1_score = []\n",
    "ROC_AUC = []\n"
   ]
  },
  {
   "cell_type": "code",
   "execution_count": null,
   "id": "872ff319-7fea-4ae0-9c8e-26c87637e2f4",
   "metadata": {},
   "outputs": [],
   "source": [
    "# Perform stratified k-fold cross-validation\n",
    "\n",
    "for train_index, test_index in skf.split(X, y):\n",
    "    print(\"TRAIN:\", train_index, \"TEST:\", test_index)\n",
    "    X_train, X_test = X.iloc[train_index], X.iloc[test_index]\n",
    "    y_train, y_test = y.iloc[train_index], y.iloc[test_index]\n",
    "\n",
    "    # Apply StandardScaler to numerical columns\n",
    "    X_train_scaled = X_train.copy()\n",
    "    X_test_scaled = X_test.copy()\n",
    "    \n",
    "    X_train_scaled[num_cols] = scaler.fit_transform(X_train[num_cols])\n",
    "    X_test_scaled[num_cols] = scaler.transform(X_test[num_cols])\n",
    "    \n",
    "    # Optionally, you can include GEN column after scaling\n",
    "    # Add scaled GEN column back to X_train_scaled and X_test_scaled\n",
    "    X_train_scaled['GEN'] = X_train['GEN']\n",
    "    X_test_scaled['GEN'] = X_test['GEN']\n",
    "    \n",
    "    # Train classifier\n",
    "    random_forest.fit(X_train_scaled, y_train)\n",
    "    \n",
    "    # Predict and evaluate\n",
    "    random_forest_y_pred = random_forest.predict(X_test_scaled)\n",
    "    random_forest_y_score = random_forest.predict_proba(X_test_scaled)[:, 1]\n",
    "\n",
    "    Accuracy.append(accuracy_score(y_test, random_forest_y_pred))\n",
    "    Precission.append(precision_score(y_test, random_forest_y_pred))\n",
    "    Recall.append(recall_score(y_test, random_forest_y_pred))\n",
    "    F1_score.append(f1_score(y_test, random_forest_y_pred))\n",
    "    ROC_AUC.append(roc_auc_score(y_test, random_forest_y_score))\n",
    "    print(\"-----------------------------------------------------------------------------------------------------\")\n",
    "confussion_matrix_list.append(y_test)\n",
    "confussion_matrix_list.append( random_forest_y_pred)\n"
   ]
  },
  {
   "cell_type": "code",
   "execution_count": null,
   "id": "17460387-d407-4606-8b84-caf1aad844ef",
   "metadata": {},
   "outputs": [],
   "source": [
    "metrics[\"Random Forest\"] = [\n",
    "    np.mean(Accuracy),\n",
    "    np.mean(Precission),\n",
    "    np.mean(Recall),\n",
    "    np.mean(F1_score),\n",
    "    np.mean(ROC_AUC)\n",
    "]"
   ]
  },
  {
   "cell_type": "code",
   "execution_count": null,
   "id": "a13e60d3-1f02-469d-9fb0-0c9cad3ae9b0",
   "metadata": {},
   "outputs": [],
   "source": [
    "print(metrics[\"Random Forest\"])"
   ]
  },
  {
   "cell_type": "code",
   "execution_count": null,
   "id": "df6a5ae6-e9d9-4d68-bff6-b35d1f1c62bd",
   "metadata": {},
   "outputs": [],
   "source": [
    "svm_best_params = {'C': 15, 'kernel': 'rbf'}\n",
    "svm_best_score = 0.9000298490572322\n"
   ]
  },
  {
   "cell_type": "code",
   "execution_count": null,
   "id": "a294f001-d8a7-4dec-9437-057d1e80ec28",
   "metadata": {},
   "outputs": [],
   "source": [
    "# SVM\n",
    "svm = SVC(**svm_best_params, probability=True)\n",
    "skf1 = StratifiedKFold(n_splits=5, shuffle=True, random_state=15)"
   ]
  },
  {
   "cell_type": "code",
   "execution_count": null,
   "id": "e1a45638-214c-4ae0-8333-168f0750db91",
   "metadata": {},
   "outputs": [],
   "source": [
    "# Perform stratified k-fold cross-validation\n",
    "for train_index, test_index in skf1.split(X, y):\n",
    "    print(\"TRAIN:\", train_index, \"TEST:\", test_index)\n",
    "    X_train, X_test = X.iloc[train_index], X.iloc[test_index]\n",
    "    y_train, y_test = y.iloc[train_index], y.iloc[test_index]\n",
    "\n",
    "    # Apply StandardScaler to numerical columns\n",
    "    X_train_scaled = X_train.copy()\n",
    "    X_test_scaled = X_test.copy()\n",
    "    \n",
    "    X_train_scaled[num_cols] = scaler.fit_transform(X_train[num_cols])\n",
    "    X_test_scaled[num_cols] = scaler.transform(X_test[num_cols])\n",
    "    \n",
    "    # Optionally, you can include GEN column after scaling\n",
    "    # Add scaled GEN column back to X_train_scaled and X_test_scaled\n",
    "    X_train_scaled['GEN'] = X_train['GEN']\n",
    "    X_test_scaled['GEN'] = X_test['GEN']\n",
    "    \n",
    "    # Train classifier\n",
    "    svm.fit(X_train_scaled, y_train)\n",
    "\n",
    "    # Predict and evaluate\n",
    "    svm_y_pred = svm.predict(X_test_scaled)\n",
    "    svm_y_score = svm.predict_proba(X_test_scaled)[:, 1]\n",
    "    \n",
    "    Accuracy.append(accuracy_score(y_test, svm_y_pred))\n",
    "    Precission.append(precision_score(y_test, svm_y_pred))\n",
    "    Recall.append(recall_score(y_test, svm_y_pred))\n",
    "    F1_score.append(f1_score(y_test, svm_y_pred))\n",
    "    ROC_AUC.append(roc_auc_score(y_test, svm_y_score))\n",
    "    print(\"-----------------------------------------------------------------------------------------------------\")\n",
    "    \n",
    "confussion_matrix_list.append(y_test)\n",
    "confussion_matrix_list.append(svm_y_pred)\n"
   ]
  },
  {
   "cell_type": "code",
   "execution_count": null,
   "id": "08042905-47af-4ebf-8bc7-e654bb956e41",
   "metadata": {},
   "outputs": [],
   "source": [
    "metrics[\"SVM\"] = [\n",
    "    np.mean(Accuracy),\n",
    "    np.mean(Precission),\n",
    "    np.mean(Recall),\n",
    "    np.mean(F1_score),\n",
    "    np.mean(ROC_AUC)\n",
    "]"
   ]
  },
  {
   "cell_type": "code",
   "execution_count": null,
   "id": "5c207cfb-a127-4d8e-9884-2b523b3cd8a5",
   "metadata": {},
   "outputs": [],
   "source": [
    "print(metrics[\"SVM\"])"
   ]
  },
  {
   "cell_type": "code",
   "execution_count": null,
   "id": "9a1e3747-46d5-4853-aa44-ec4fc6a95c8c",
   "metadata": {},
   "outputs": [],
   "source": [
    "lr_best_params = {'C': 1000.0, 'l1_ratio': 0.1, 'max_iter': 850, 'penalty': 'elasticnet', 'solver': 'saga'}\n",
    "lr_best_score = 0.6462995456766315\n"
   ]
  },
  {
   "cell_type": "code",
   "execution_count": null,
   "id": "1c02a195-1c30-4a79-943a-03303dd2d322",
   "metadata": {},
   "outputs": [],
   "source": [
    "# Logistic Regression\n",
    "lr = LogisticRegression(**lr_best_params, class_weight=\"balanced\")\n",
    "skf3 = StratifiedKFold(n_splits=5, shuffle=True, random_state=15)\n",
    "\n",
    "for train_index, test_index in skf3.split(X, y):\n",
    "    print(\"TRAIN:\", train_index, \"TEST:\", test_index)\n",
    "    X_train, X_test = X.iloc[train_index], X.iloc[test_index]\n",
    "    y_train, y_test = y.iloc[train_index], y.iloc[test_index]\n",
    "\n",
    "    # Apply StandardScaler to numerical columns\n",
    "    X_train_scaled = X_train.copy()\n",
    "    X_test_scaled = X_test.copy()\n",
    "    \n",
    "    X_train_scaled[num_cols] = scaler.fit_transform(X_train[num_cols])\n",
    "    X_test_scaled[num_cols] = scaler.transform(X_test[num_cols])\n",
    "    \n",
    "    # Optionally, you can include GEN column after scaling\n",
    "    # Add scaled GEN column back to X_train_scaled and X_test_scaled\n",
    "    X_train_scaled['GEN'] = X_train['GEN']\n",
    "    X_test_scaled['GEN'] = X_test['GEN']\n",
    "    \n",
    "    # Train classifier\n",
    "    lr.fit(X_train_scaled, y_train)\n",
    "\n",
    "    lr_y_pred = lr.predict(X_test_scaled)\n",
    "    lr_y_score = lr.predict_proba(X_test_scaled)[:, 1]\n",
    "    \n",
    "    Accuracy.append(accuracy_score(y_test, lr_y_pred))\n",
    "    Precission.append(precision_score(y_test, lr_y_pred) )\n",
    "    Recall.append(recall_score(y_test, lr_y_pred))\n",
    "    F1_score.append(f1_score(y_test, lr_y_pred))\n",
    "    ROC_AUC.append(roc_auc_score(y_test, lr_y_score))\n",
    "    print(\"-----------------------------------------------------------------------------------------------------\")\n",
    "confussion_matrix_list.append(y_test)\n",
    "confussion_matrix_list.append(lr_y_pred)\n",
    "    "
   ]
  },
  {
   "cell_type": "code",
   "execution_count": null,
   "id": "4e6a8c82-c089-40ed-ae48-69f1ab382cfb",
   "metadata": {},
   "outputs": [],
   "source": [
    "metrics[\"Logistic Regression\"] = [\n",
    "    np.mean(Accuracy),\n",
    "    np.mean(Precission),\n",
    "    np.mean(Recall),\n",
    "    np.mean(F1_score),\n",
    "    np.mean(ROC_AUC)\n",
    "]"
   ]
  },
  {
   "cell_type": "code",
   "execution_count": null,
   "id": "9b1a58df-27cd-4269-882e-0b6fae91f92d",
   "metadata": {},
   "outputs": [],
   "source": [
    "print(metrics[\"Logistic Regression\"])"
   ]
  },
  {
   "cell_type": "code",
   "execution_count": null,
   "id": "2149173a-59b8-49d2-a758-23295f76e6df",
   "metadata": {},
   "outputs": [],
   "source": [
    "print(metrics)"
   ]
  },
  {
   "cell_type": "code",
   "execution_count": null,
   "id": "0afd9450-d5f7-432e-9c9d-f51a4ba41cd9",
   "metadata": {},
   "outputs": [],
   "source": [
    "\n",
    "metrics = metrics.transpose()\n",
    "\n",
    "# Plot the bar chart\n",
    "metrics.plot(kind='bar', figsize=(10, 6))\n",
    "plt.title('Model Performance Metrics')\n",
    "plt.xlabel('Metrics')\n",
    "plt.ylabel('Score')\n",
    "plt.legend(title='Models')\n",
    "plt.xticks(rotation=0)  # Rotate x-axis labels if needed\n",
    "plt.show()\n",
    "plt.savefig('performance_nonum.png')\n"
   ]
  },
  {
   "cell_type": "code",
   "execution_count": null,
   "id": "8d758994-dbd7-4241-bf73-46f0d09d266e",
   "metadata": {},
   "outputs": [],
   "source": [
    "plt.figure(figsize=(10, 6))\n",
    "\n",
    "ax = metrics.plot(kind='bar', figsize=(15, 8))\n",
    "\n",
    "for i in ax.patches:\n",
    "   ax.annotate(f\"{i.get_height()*100:.1f}\", \n",
    "                (i.get_x() + i.get_width() / 2., i.get_height()),\n",
    "                ha='center', va='center',\n",
    "                xytext=(0, 9),\n",
    "                textcoords='offset points')\n",
    "\n",
    "plt.title('Model Performance Metrics')\n",
    "plt.ylabel('Score')\n",
    "plt.xticks(rotation=0)\n",
    "plt.show()\n",
    "plt.savefig('performance_num.png')"
   ]
  },
  {
   "cell_type": "code",
   "execution_count": null,
   "id": "117f006b-4f3e-48eb-b029-b731cf42264a",
   "metadata": {},
   "outputs": [],
   "source": [
    "fig, ax = plt.subplots(figsize=(8, 4))\n",
    "sns.heatmap(confusion_matrix(confussion_matrix_list[0], confussion_matrix_list[1]), \n",
    "            cmap=sns.diverging_palette(220, 10, as_cmap=True), fmt=\"d\", ax=ax, annot=True)\n",
    "plt.title(\"Confusion Matrix Random Forest\")"
   ]
  },
  {
   "cell_type": "code",
   "execution_count": null,
   "id": "44b0e122-87e9-42f2-9cf7-16e49c09cb55",
   "metadata": {},
   "outputs": [],
   "source": [
    "fig, ax = plt.subplots(figsize=(8, 4))\n",
    "sns.heatmap(confusion_matrix(confussion_matrix_list[2], confussion_matrix_list[3]), \n",
    "            cmap=sns.diverging_palette(220, 10, as_cmap=True), fmt=\"d\", ax=ax, annot=True)\n",
    "plt.title(\"Confusion Matrix SVM\")"
   ]
  },
  {
   "cell_type": "code",
   "execution_count": null,
   "id": "b5ca89cc-f0bf-45fa-872f-b3ec7815244c",
   "metadata": {},
   "outputs": [],
   "source": [
    "fig, ax = plt.subplots(figsize=(8, 4))\n",
    "sns.heatmap(confusion_matrix(confussion_matrix_list[4], confussion_matrix_list[5]), \n",
    "            cmap=sns.diverging_palette(220, 10, as_cmap=True), fmt=\"d\", ax=ax, annot=True)\n",
    "plt.title(\"Confusion MatrixLogistic Regression\")"
   ]
  },
  {
   "cell_type": "code",
   "execution_count": null,
   "id": "f771d2c5-4a48-46d8-ba53-962011475cf0",
   "metadata": {},
   "outputs": [],
   "source": [
    "from sklearn.metrics import RocCurveDisplay\n",
    "disp=RocCurveDisplay.from_estimator(svm, X_test_scaled, y_test)\n",
    "RocCurveDisplay.from_estimator(random_forest, X_test_scaled, y_test, ax = disp.ax_);\n",
    "RocCurveDisplay.from_estimator(lr, X_test_scaled, y_test, ax=disp.ax_);\n",
    "plt.plot([0, 1], [0, 1], linestyle='--', color='gray')\n",
    "plt.xlabel(\"False Positive Rate\")\n",
    "plt.ylabel(\"True Positive Rate\")\n",
    "plt.savefig('Auc_Roc.png')\n"
   ]
  },
  {
   "cell_type": "code",
   "execution_count": null,
   "id": "0c6e1105-6b40-4423-8614-8e82faf8bdf6",
   "metadata": {},
   "outputs": [],
   "source": [
    "best_model = random_forest"
   ]
  },
  {
   "cell_type": "code",
   "execution_count": null,
   "id": "5f9ca3b3-7145-4405-af2d-881231d8b655",
   "metadata": {},
   "outputs": [],
   "source": [
    "\n"
   ]
  },
  {
   "cell_type": "code",
   "execution_count": null,
   "id": "08cb6ba7-85dd-48b7-ba13-868545939093",
   "metadata": {},
   "outputs": [],
   "source": []
  }
 ],
 "metadata": {
  "kernelspec": {
   "display_name": "Python 3 (ipykernel)",
   "language": "python",
   "name": "python3"
  },
  "language_info": {
   "codemirror_mode": {
    "name": "ipython",
    "version": 3
   },
   "file_extension": ".py",
   "mimetype": "text/x-python",
   "name": "python",
   "nbconvert_exporter": "python",
   "pygments_lexer": "ipython3",
   "version": "3.12.5"
  }
 },
 "nbformat": 4,
 "nbformat_minor": 5
}
