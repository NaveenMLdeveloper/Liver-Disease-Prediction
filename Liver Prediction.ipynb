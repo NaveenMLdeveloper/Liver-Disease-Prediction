{
 "cells": [
  {
   "cell_type": "code",
   "execution_count": null,
   "id": "be8c241d-13be-4cb5-baa6-15302cb715a6",
   "metadata": {},
   "outputs": [],
   "source": [
    "import pandas as pd \n",
    "import numpy as np\n",
    "import seaborn as sns \n",
    "import matplotlib.pyplot as plt\n",
    "from sklearn.model_selection import train_test_split\n",
    "from sklearn.impute import SimpleImputer\n",
    "from sklearn.preprocessing import LabelEncoder\n",
    "from sklearn.svm import SVC\n",
    "from sklearn.linear_model import LogisticRegression\n",
    "from sklearn.ensemble import RandomForestClassifier\n",
    "from sklearn.metrics import (\n",
    "    accuracy_score,\n",
    "    precision_score,\n",
    "    recall_score,\n",
    "    f1_score,\n",
    "    classification_report, \n",
    "    confusion_matrix\n",
    ")\n"
   ]
  },
  {
   "cell_type": "code",
   "execution_count": null,
   "id": "509a48f8-073a-405e-967b-e8912b6c7022",
   "metadata": {},
   "outputs": [],
   "source": [
    "# Data Load:\n",
    "file_path = r\"E:\\ML\\Liver\\dataset\\liver.csv\"\n",
    "df = pd.read_csv(file_path)\n",
    "df.head()"
   ]
  },
  {
   "cell_type": "code",
   "execution_count": null,
   "id": "0dc9b7b8-d13e-49cb-a735-707ce7e66659",
   "metadata": {},
   "outputs": [],
   "source": [
    "# Data Preprocessing:\n",
    "# set uo input data\n",
    "import pandas as pd \n",
    "AAP =202\n",
    "SGPT=22\n",
    "TB =0.9\n",
    "DB =0.3\n",
    "SGOT =19\n",
    "AGR =1.2\n",
    "ALBA =4.1\n",
    "AGE =65\n",
    "GEN =1\n",
    "TP=6.8\n",
    "input = np.array([AGE,GEN,TB,DB,AAP,SGPT,SGOT,TP,ALBA,AGR])\n",
    "columns = ['AGE','GEN','TB','DB','AAP','SGPT','SGOT','TB','ALBA','AGR']\n",
    "input_df = pd.DataFrame(input.reshape(1,-1),columns=columns)"
   ]
  },
  {
   "cell_type": "code",
   "execution_count": null,
   "id": "5a70c22f-81c4-43bc-afd5-20aeddadc561",
   "metadata": {},
   "outputs": [],
   "source": [
    "# Load and preprocess training data \n",
    "df=pd.read_csv( r\"E:\\ML\\Liver\\dataset\\liver.csv\",encoding=\"unicode_escape\")\n",
    "print(df.columns)\n",
    "print(input_df.columns)"
   ]
  },
  {
   "cell_type": "code",
   "execution_count": null,
   "id": "64c9a847-07bc-4591-a527-91f34f0100ea",
   "metadata": {},
   "outputs": [],
   "source": [
    "r={'Age of the patient':'AGE','Gender of the patient':'GEN','Total Bilirubin':'TB',\n",
    "   'Direct Bilirubin':'DB','Alkphos Alkaline Phosphotase':'AAP','Sgpt Alamine Aminotransferase':'SGPT',\n",
    "    'Sgot Aspartate Aminotransferase':'SGOT','Total Protiens':'TP','ALB Albumin':'ALBA',\n",
    "     'A/G Ratio Albumin and Globulin Ratio':'AGR','Result':'Result'\n",
    "  }"
   ]
  },
  {
   "cell_type": "code",
   "execution_count": null,
   "id": "b780c438-f613-4abb-8fad-03e17aced845",
   "metadata": {},
   "outputs": [],
   "source": [
    "df.rename(columns=r, inplace=True)"
   ]
  },
  {
   "cell_type": "code",
   "execution_count": null,
   "id": "a52c5369-e77b-4f64-b199-3c7d9297746c",
   "metadata": {},
   "outputs": [],
   "source": [
    "df.head()"
   ]
  },
  {
   "cell_type": "code",
   "execution_count": null,
   "id": "7286af27-3827-4c24-abe4-a51805e3079e",
   "metadata": {},
   "outputs": [],
   "source": [
    "df.shape"
   ]
  },
  {
   "cell_type": "code",
   "execution_count": null,
   "id": "0c70e288-a485-4692-b8f0-ac231f34aaaf",
   "metadata": {},
   "outputs": [],
   "source": [
    "# Replace Result column values\n",
    "# In original Dataset 1=Liver patient and 2=Healthy\n",
    "# For better understanding Replace 1 with 1 and 0 for 2\n",
    "d_target = {1:1,2:0}\n",
    "df.replace({'Result':d_target},inplace=True)\n",
    "df.Result.value_counts()"
   ]
  },
  {
   "cell_type": "code",
   "execution_count": null,
   "id": "1a869de4-5ac3-4ff7-8f3f-19b10ae8a40e",
   "metadata": {},
   "outputs": [],
   "source": [
    "df.describe()"
   ]
  },
  {
   "cell_type": "code",
   "execution_count": null,
   "id": "5046c069-b999-405a-ba65-4c36b4d6c9ff",
   "metadata": {},
   "outputs": [],
   "source": [
    "df_num=df.select_dtypes(include=[np.number])\n",
    "df_cat = df.select_dtypes(include=[object])\n",
    "num_cols = df_num.columns.values[:-1]\n",
    "cat_cols = df_cat.columns.values\n",
    "print(num_cols)\n",
    "print(cat_cols)"
   ]
  },
  {
   "cell_type": "code",
   "execution_count": null,
   "id": "3576bdd5-f93e-4012-a44b-5c7aacbc5980",
   "metadata": {},
   "outputs": [],
   "source": [
    "df.head()"
   ]
  },
  {
   "cell_type": "code",
   "execution_count": null,
   "id": "45428bd3-cc08-4490-ad18-56b361e09323",
   "metadata": {},
   "outputs": [],
   "source": [
    "#Below we can see the number of empty values(Null) in each columns\n",
    "df.isna().sum().sort_values(ascending=False)"
   ]
  },
  {
   "cell_type": "code",
   "execution_count": null,
   "id": "e48295f7-ed10-4a85-812e-c55c119a490f",
   "metadata": {},
   "outputs": [],
   "source": [
    "#DELETE DUPLIDUPLICATE RERECORD \n",
    "df.drop_duplicates(inplace=True) "
   ]
  },
  {
   "cell_type": "code",
   "execution_count": null,
   "id": "8db311e3-18d4-418f-8cb2-90d543a41fa2",
   "metadata": {},
   "outputs": [],
   "source": [
    "df.describe()"
   ]
  },
  {
   "cell_type": "code",
   "execution_count": null,
   "id": "46045b61-991f-40b5-9287-4f5c5955958e",
   "metadata": {},
   "outputs": [],
   "source": [
    "df.isna().sum().sort_values(ascending=False)"
   ]
  },
  {
   "cell_type": "code",
   "execution_count": null,
   "id": "1d0a6324-cc0b-44cd-bc32-3f215b734243",
   "metadata": {},
   "outputs": [],
   "source": [
    "df.isna().mean().mul(100).sort_values(ascending=False)"
   ]
  },
  {
   "cell_type": "code",
   "execution_count": null,
   "id": "7c6eb0be-d5dd-4182-91ef-7a17f2d0dc3b",
   "metadata": {},
   "outputs": [],
   "source": [
    "# Replaceing missing values with mean values\n",
    "for col in num_cols:\n",
    "    if df[col].isna().mean()*100<15:\n",
    "        cur_mean=np.mean(df[col])\n",
    "        df[col]=df[col].fillna(cur_mean)"
   ]
  },
  {
   "cell_type": "code",
   "execution_count": null,
   "id": "0ae386c6-23b7-4b9f-8cb0-0e2a4367ce10",
   "metadata": {},
   "outputs": [],
   "source": [
    "df.isna().mean().mul(100).sort_values(ascending=False)"
   ]
  },
  {
   "cell_type": "code",
   "execution_count": null,
   "id": "0237218c-aa3d-4d14-8a04-a0f57373df57",
   "metadata": {},
   "outputs": [],
   "source": [
    "df.isna().sum().sort_values(ascending=False)"
   ]
  },
  {
   "cell_type": "code",
   "execution_count": null,
   "id": "f083bfd3-843b-4e28-a5c5-90d47534b5c9",
   "metadata": {},
   "outputs": [],
   "source": [
    "df.dropna(inplace=True)"
   ]
  },
  {
   "cell_type": "code",
   "execution_count": null,
   "id": "ac89d71e-4ad5-4b6a-8138-b6b4a6aa91f2",
   "metadata": {},
   "outputs": [],
   "source": [
    "df.describe()"
   ]
  },
  {
   "cell_type": "code",
   "execution_count": null,
   "id": "0c56d3fb-7611-433a-90f0-000205f886d0",
   "metadata": {},
   "outputs": [],
   "source": [
    "df.isna().mean().mul(100).sort_values(ascending=False)"
   ]
  },
  {
   "cell_type": "code",
   "execution_count": null,
   "id": "db7a6c90-3e41-4ca7-b0dc-a8dfbdc553ce",
   "metadata": {},
   "outputs": [],
   "source": [
    "df.isna().sum().sort_values(ascending=False)"
   ]
  },
  {
   "cell_type": "code",
   "execution_count": null,
   "id": "023eb450-17f6-4062-aa45-454046479797",
   "metadata": {},
   "outputs": [],
   "source": [
    "df.head(10)"
   ]
  },
  {
   "cell_type": "code",
   "execution_count": null,
   "id": "d1fa9e8e-1240-4e2a-a714-cec067d9a81a",
   "metadata": {},
   "outputs": [],
   "source": [
    "df.shape"
   ]
  },
  {
   "cell_type": "code",
   "execution_count": null,
   "id": "de4b3a22-f86e-4e29-a07d-2673003af22b",
   "metadata": {},
   "outputs": [],
   "source": [
    "df.Result.value_counts()"
   ]
  },
  {
   "cell_type": "code",
   "execution_count": null,
   "id": "6e642783-5ef7-444d-8b18-93fa809310eb",
   "metadata": {},
   "outputs": [],
   "source": [
    " # for categorical data (Gender) encode 1 for Male and 0 for Female\n",
    "enc=LabelEncoder()\n",
    "df['GEN']=enc.fit_transform(df['GEN'])"
   ]
  },
  {
   "cell_type": "code",
   "execution_count": null,
   "id": "16dcf738-ec2f-4ecb-96ad-46ad9cc97e46",
   "metadata": {},
   "outputs": [],
   "source": [
    "for feature in df.columns:\n",
    "    print(feature,\":\",len(df[feature].unique()))"
   ]
  },
  {
   "cell_type": "code",
   "execution_count": null,
   "id": "dfe632d5-a0e1-418a-bcc5-29c7cce17d0f",
   "metadata": {},
   "outputs": [],
   "source": [
    "print(df['GEN'].unique());"
   ]
  },
  {
   "cell_type": "code",
   "execution_count": null,
   "id": "d3e6d707-492e-4112-8824-b73dde538b29",
   "metadata": {},
   "outputs": [],
   "source": [
    "\n",
    "\n",
    "# Iterate through each column\n",
    "for column in  num_cols:\n",
    "    # Calculate quartiles and IQR\n",
    "    q1 = df[column].quantile(0.25)\n",
    "    q3 = df[column].quantile(0.75)\n",
    "    iqr = q3 - q1\n",
    "    \n",
    "    # Calculate box plot boundaries\n",
    "    box_min = q1 - (1.5 * iqr)\n",
    "    box_max = q3 + (1.5 * iqr)\n",
    "    \n",
    "    # Display results\n",
    "    print(f\"Column: {column}\")\n",
    "    print(f\"Q1 (First Quartile): {q1}\")\n",
    "    print(f\"Q3 (Third Quartile): {q3}\")\n",
    "    print(f\"IQR (Interquartile Range): {iqr}\")\n",
    "    print(f\"Box Plot Minimum: {box_min}\")\n",
    "    print(f\"Box Plot Maximum: {box_max}\")\n",
    "    print(\"--------------------------\")\n"
   ]
  },
  {
   "cell_type": "code",
   "execution_count": null,
   "id": "92f9734c-fa0f-443b-a275-910bf1ba6d30",
   "metadata": {},
   "outputs": [],
   "source": [
    "for col in num_cols:\n",
    "    Q1, Q3 = df.loc[:,col].quantile([0.25,0.75]).values\n",
    "    IQR = Q3-Q1\n",
    "    box_max = Q3+(1.5*IQR)\n",
    "    box_min = Q1-(1.5*IQR)\n",
    "    df.loc[df[col]<box_min, col] = np.nan\n",
    "    df.loc[df[col]>box_max, col] = np.nan\n",
    "\n",
    "    "
   ]
  },
  {
   "cell_type": "code",
   "execution_count": null,
   "id": "2373d232-27d9-48d3-95ca-02c009ddc019",
   "metadata": {},
   "outputs": [],
   "source": [
    "df.isna().sum().sort_values(ascending=False)"
   ]
  },
  {
   "cell_type": "code",
   "execution_count": null,
   "id": "1cd35a15-1f51-4373-85e0-6823820720bc",
   "metadata": {},
   "outputs": [],
   "source": [
    "df.dropna(inplace=True)"
   ]
  },
  {
   "cell_type": "code",
   "execution_count": null,
   "id": "26b4ba30-4566-4990-99d8-0324ae208222",
   "metadata": {},
   "outputs": [],
   "source": [
    "df.isna().sum().sort_values(ascending=False)"
   ]
  },
  {
   "cell_type": "code",
   "execution_count": null,
   "id": "8df23210-c113-4e3b-a54a-7731dd2e1f54",
   "metadata": {},
   "outputs": [],
   "source": [
    "df.describe()"
   ]
  },
  {
   "cell_type": "code",
   "execution_count": null,
   "id": "3f9e85d7-7067-4c4e-baa0-31df74564e87",
   "metadata": {},
   "outputs": [],
   "source": [
    "df.Result.value_counts()"
   ]
  },
  {
   "cell_type": "code",
   "execution_count": null,
   "id": "a448aaab-d75a-41fb-ac0f-e2b8a74ac54b",
   "metadata": {},
   "outputs": [],
   "source": [
    "df.shape"
   ]
  },
  {
   "cell_type": "code",
   "execution_count": null,
   "id": "84362805-5667-4ab2-a9c8-5b41bed37ac7",
   "metadata": {},
   "outputs": [],
   "source": [
    "sns.set(style=\"darkgrid\")\n",
    "plt.figure(figsize=(6,4))\n",
    "sns.countplot(x='Result',data=df,palette='pastel')\n",
    "plt.title('Distribution of Result')\n",
    "plt.xlabel('Result')\n",
    "plt.ylabel('Count')\n",
    "plt.show()"
   ]
  },
  {
   "cell_type": "code",
   "execution_count": null,
   "id": "6bd3294c-ed54-43e2-a2a3-88afb1a1f52e",
   "metadata": {},
   "outputs": [],
   "source": [
    "df.head(10)"
   ]
  },
  {
   "cell_type": "code",
   "execution_count": null,
   "id": "67cc4f16-3c96-4246-8f75-6310a3e05040",
   "metadata": {},
   "outputs": [],
   "source": [
    "print(type(num_cols))\n",
    "print(type(cat_cols))"
   ]
  },
  {
   "cell_type": "code",
   "execution_count": null,
   "id": "f383bf75-fdc3-4320-a724-5f10cee12f5d",
   "metadata": {},
   "outputs": [],
   "source": [
    "print(type(df))"
   ]
  },
  {
   "cell_type": "code",
   "execution_count": null,
   "id": "eff2f38c-6b86-4cbe-99c6-23c9b528f10e",
   "metadata": {},
   "outputs": [],
   "source": [
    "from sklearn.model_selection import StratifiedKFold\n",
    "from sklearn.preprocessing import StandardScaler"
   ]
  },
  {
   "cell_type": "code",
   "execution_count": null,
   "id": "106202a2-23ea-4ca0-a82c-3762a3871350",
   "metadata": {},
   "outputs": [],
   "source": [
    "# Separate features (X) and target (y)\n",
    "X = df.drop(['Result'], axis=1)\n",
    "y = df.Result"
   ]
  },
  {
   "cell_type": "code",
   "execution_count": null,
   "id": "adbec4e9-bcbd-4c31-939a-6f5a6e093150",
   "metadata": {},
   "outputs": [],
   "source": [
    "X"
   ]
  },
  {
   "cell_type": "code",
   "execution_count": null,
   "id": "7f55df64-92f0-461d-8e48-efcc9342208e",
   "metadata": {},
   "outputs": [],
   "source": [
    "y"
   ]
  },
  {
   "cell_type": "code",
   "execution_count": null,
   "id": "87e8fc36-ea6d-4e9e-bfb9-2df944ab088d",
   "metadata": {},
   "outputs": [],
   "source": [
    "# Initialize StratifiedKFold with desired number of folds or n_splits (default is 5)\n",
    "skf = StratifiedKFold(n_splits=5, shuffle=True, random_state=15)"
   ]
  },
  {
   "cell_type": "code",
   "execution_count": null,
   "id": "3b292452-77c9-499f-b540-4e726b44f62c",
   "metadata": {},
   "outputs": [],
   "source": [
    "scaler = StandardScaler()"
   ]
  },
  {
   "cell_type": "code",
   "execution_count": null,
   "id": "56c6c5cd-2d2b-42dd-bf52-9e48521a0574",
   "metadata": {},
   "outputs": [],
   "source": [
    "metrics = pd.DataFrame(index=['Accuracy', 'Precission', 'Recall', 'F1_score', 'ROC_AUC'])"
   ]
  },
  {
   "cell_type": "code",
   "execution_count": null,
   "id": "7ac70377-789b-4d52-a616-e3c5dcf72d18",
   "metadata": {},
   "outputs": [],
   "source": [
    "confussion_matrix_list = []"
   ]
  },
  {
   "cell_type": "code",
   "execution_count": null,
   "id": "1984ccbf-371b-4ae5-9997-6cdd21f8c648",
   "metadata": {},
   "outputs": [],
   "source": [
    "# MODEL SELECTION\n",
    "# RANDOM FOREST"
   ]
  },
  {
   "cell_type": "code",
   "execution_count": null,
   "id": "c3ef832f-dabf-4c91-adb7-6c7deef188d5",
   "metadata": {},
   "outputs": [],
   "source": [
    "random_forest_best_params = {'bootstrap': True, 'criterion': 'log_loss', \n",
    "                             'max_depth': 70, 'max_features': 'log2', \n",
    "                             'n_estimators': 500}\n",
    "random_forest_best_score = 0.9997873910277993"
   ]
  },
  {
   "cell_type": "code",
   "execution_count": null,
   "id": "e182d924-0e29-4524-bd7f-6e825783601b",
   "metadata": {},
   "outputs": [],
   "source": [
    "# Random Forest\n",
    "random_forest = RandomForestClassifier(**random_forest_best_params)\n",
    "\n",
    "Accuracy = []\n",
    "Precission = []\n",
    "Recall = []\n",
    "F1_score = []\n",
    "ROC_AUC = []"
   ]
  },
  {
   "cell_type": "code",
   "execution_count": null,
   "id": "f5dc8464-7702-48bb-908e-b7b4ef4f9e54",
   "metadata": {},
   "outputs": [],
   "source": [
    "# Perform stratified k-fold cross-validation\n",
    "\n",
    "for train_index, test_index in skf.split(X, y):\n",
    "    print(\"TRAIN:\", train_index, \"TEST:\", test_index)\n",
    "    X_train, X_test = X.iloc[train_index], X.iloc[test_index]\n",
    "    y_train, y_test = y.iloc[train_index], y.iloc[test_index]\n",
    "\n",
    "    # Apply StandardScaler to numerical columns\n",
    "    X_train_scaled = X_train.copy()\n",
    "    X_test_scaled = X_test.copy()\n",
    "    \n",
    "    X_train_scaled[num_cols] = scaler.fit_transform(X_train[num_cols])\n",
    "    X_test_scaled[num_cols] = scaler.transform(X_test[num_cols])\n",
    "    \n",
    "    # Optionally, you can include GEN column after scaling\n",
    "    # Add scaled GEN column back to X_train_scaled and X_test_scaled\n",
    "    X_train_scaled['GEN'] = X_train['GEN']\n",
    "    X_test_scaled['GEN'] = X_test['GEN']\n",
    "    \n",
    "    # Train classifier\n",
    "    random_forest.fit(X_train_scaled, y_train)\n",
    "    \n",
    "    # Predict and evaluate\n",
    "    random_forest_y_pred = random_forest.predict(X_test_scaled)\n",
    "    random_forest_y_score = random_forest.predict_proba(X_test_scaled)[:, 1]\n",
    "\n",
    "    Accuracy.append(accuracy_score(y_test, random_forest_y_pred))\n",
    "    Precission.append(precision_score(y_test, random_forest_y_pred))\n",
    "    Recall.append(recall_score(y_test, random_forest_y_pred))\n",
    "    F1_score.append(f1_score(y_test, random_forest_y_pred))\n",
    "    ROC_AUC.append(roc_auc_score(y_test, random_forest_y_score))\n",
    "    print(\"-----------------------------------------------------------------------------------------------------\")\n",
    "confussion_matrix_list.append(y_test)\n",
    "confussion_matrix_list.append( random_forest_y_pred)\n"
   ]
  },
  {
   "cell_type": "code",
   "execution_count": null,
   "id": "64b61d39-0898-456b-b35f-5fc6993d9503",
   "metadata": {},
   "outputs": [],
   "source": [
    "metrics[\"Random Forest\"] = [\n",
    "    np.mean(Accuracy),\n",
    "    np.mean(Precission),\n",
    "    np.mean(Recall),\n",
    "    np.mean(F1_score),\n",
    "    np.mean(ROC_AUC)\n",
    "]\n"
   ]
  },
  {
   "cell_type": "code",
   "execution_count": null,
   "id": "a248280d-2f8c-41e5-a13c-710624e25593",
   "metadata": {},
   "outputs": [],
   "source": [
    "print(metrics[\"Random Forest\"])"
   ]
  },
  {
   "cell_type": "raw",
   "id": "bc208640-20c1-4291-b691-58a8e600b912",
   "metadata": {},
   "source": [
    "SVM"
   ]
  },
  {
   "cell_type": "code",
   "execution_count": null,
   "id": "e4a99abd-ae50-4f72-adae-567ac81579a3",
   "metadata": {},
   "outputs": [],
   "source": [
    "svm_best_params = {'C': 15, 'kernel': 'rbf'}\n",
    "svm_best_score = 0.9000298490572322\n"
   ]
  },
  {
   "cell_type": "code",
   "execution_count": null,
   "id": "257a64ac-0482-48dd-bcf5-efa4249f66d0",
   "metadata": {},
   "outputs": [],
   "source": [
    "# SVM\n",
    "svm = SVC(**svm_best_params, probability=True)\n",
    "skf1 = StratifiedKFold(n_splits=5, shuffle=True, random_state=15)"
   ]
  },
  {
   "cell_type": "code",
   "execution_count": null,
   "id": "7537a840-0971-4163-8c08-e67102da4a0c",
   "metadata": {},
   "outputs": [],
   "source": [
    "# Perform stratified k-fold cross-validation\n",
    "for train_index, test_index in skf1.split(X, y):\n",
    "    print(\"TRAIN:\", train_index, \"TEST:\", test_index)\n",
    "    X_train, X_test = X.iloc[train_index], X.iloc[test_index]\n",
    "    y_train, y_test = y.iloc[train_index], y.iloc[test_index]\n",
    "\n",
    "    # Apply StandardScaler to numerical columns\n",
    "    X_train_scaled = X_train.copy()\n",
    "    X_test_scaled = X_test.copy()\n",
    "    \n",
    "    X_train_scaled[num_cols] = scaler.fit_transform(X_train[num_cols])\n",
    "    X_test_scaled[num_cols] = scaler.transform(X_test[num_cols])\n",
    "    \n",
    "    # Optionally, you can include GEN column after scaling\n",
    "    # Add scaled GEN column back to X_train_scaled and X_test_scaled\n",
    "    X_train_scaled['GEN'] = X_train['GEN']\n",
    "    X_test_scaled['GEN'] = X_test['GEN']\n",
    "    \n",
    "    # Train classifier\n",
    "    svm.fit(X_train_scaled, y_train)\n",
    "\n",
    "    # Predict and evaluate\n",
    "    svm_y_pred = svm.predict(X_test_scaled)\n",
    "    svm_y_score = svm.predict_proba(X_test_scaled)[:, 1]\n",
    "    \n",
    "    Accuracy.append(accuracy_score(y_test, svm_y_pred))\n",
    "    Precission.append(precision_score(y_test, svm_y_pred))\n",
    "    Recall.append(recall_score(y_test, svm_y_pred))\n",
    "    F1_score.append(f1_score(y_test, svm_y_pred))\n",
    "    ROC_AUC.append(roc_auc_score(y_test, svm_y_score))\n",
    "    print(\"-----------------------------------------------------------------------------------------------------\")\n",
    "    \n",
    "confussion_matrix_list.append(y_test)\n",
    "confussion_matrix_list.append(svm_y_pred)\n"
   ]
  },
  {
   "cell_type": "code",
   "execution_count": null,
   "id": "ca29f219-a68f-413f-90b4-e274c959006b",
   "metadata": {},
   "outputs": [],
   "source": [
    "metrics[\"SVM\"] = [\n",
    "    np.mean(Accuracy),\n",
    "    np.mean(Precission),\n",
    "    np.mean(Recall),\n",
    "    np.mean(F1_score),\n",
    "    np.mean(ROC_AUC)\n",
    "]"
   ]
  },
  {
   "cell_type": "code",
   "execution_count": null,
   "id": "22fc7039-fc76-4367-8b31-aa9eff3af7f1",
   "metadata": {},
   "outputs": [],
   "source": [
    "print(metrics[\"SVM\"])"
   ]
  },
  {
   "cell_type": "code",
   "execution_count": null,
   "id": "2b527218-db97-4efe-b59c-e9a9eed32d30",
   "metadata": {},
   "outputs": [],
   "source": [
    "#Logistic Regression\n",
    "lr_best_params = {'C': 1000.0, 'l1_ratio': 0.1, 'max_iter': 850, 'penalty': 'elasticnet', 'solver': 'saga'}\n",
    "lr_best_score = 0.6462995456766315\n"
   ]
  },
  {
   "cell_type": "code",
   "execution_count": null,
   "id": "c94f8a45-2355-4803-9b21-9e19173ad808",
   "metadata": {},
   "outputs": [],
   "source": [
    "# Logistic Regression\n",
    "lr = LogisticRegression(**lr_best_params, class_weight=\"balanced\")\n",
    "skf3 = StratifiedKFold(n_splits=5, shuffle=True, random_state=15)\n",
    "\n",
    "for train_index, test_index in skf3.split(X, y):\n",
    "    print(\"TRAIN:\", train_index, \"TEST:\", test_index)\n",
    "    X_train, X_test = X.iloc[train_index], X.iloc[test_index]\n",
    "    y_train, y_test = y.iloc[train_index], y.iloc[test_index]\n",
    "\n",
    "    # Apply StandardScaler to numerical columns\n",
    "    X_train_scaled = X_train.copy()\n",
    "    X_test_scaled = X_test.copy()\n",
    "    \n",
    "    X_train_scaled[num_cols] = scaler.fit_transform(X_train[num_cols])\n",
    "    X_test_scaled[num_cols] = scaler.transform(X_test[num_cols])\n",
    "    \n",
    "    # Optionally, you can include GEN column after scaling\n",
    "    # Add scaled GEN column back to X_train_scaled and X_test_scaled\n",
    "    X_train_scaled['GEN'] = X_train['GEN']\n",
    "    X_test_scaled['GEN'] = X_test['GEN']\n",
    "    \n",
    "    # Train classifier\n",
    "    lr.fit(X_train_scaled, y_train)\n",
    "\n",
    "    lr_y_pred = lr.predict(X_test_scaled)\n",
    "    lr_y_score = lr.predict_proba(X_test_scaled)[:, 1]\n",
    "    \n",
    "    Accuracy.append(accuracy_score(y_test, lr_y_pred))\n",
    "    Precission.append(precision_score(y_test, lr_y_pred) )\n",
    "    Recall.append(recall_score(y_test, lr_y_pred))\n",
    "    F1_score.append(f1_score(y_test, lr_y_pred))\n",
    "    ROC_AUC.append(roc_auc_score(y_test, lr_y_score))\n",
    "    print(\"-----------------------------------------------------------------------------------------------------\")\n",
    "confussion_matrix_list.append(y_test)\n",
    "confussion_matrix_list.append(lr_y_pred)\n",
    "    "
   ]
  },
  {
   "cell_type": "code",
   "execution_count": null,
   "id": "8e4dd8d7-db53-4899-b4dd-9cb793c97a02",
   "metadata": {},
   "outputs": [],
   "source": [
    "metrics[\"Logistic Regression\"] = [\n",
    "    np.mean(Accuracy),\n",
    "    np.mean(Precission),\n",
    "    np.mean(Recall),\n",
    "    np.mean(F1_score),\n",
    "    np.mean(ROC_AUC)\n",
    "]"
   ]
  },
  {
   "cell_type": "code",
   "execution_count": null,
   "id": "6374756d-9115-4cf2-934b-988c596d5e21",
   "metadata": {},
   "outputs": [],
   "source": [
    "\n",
    "print(metrics[\"Logistic Regression\"])"
   ]
  },
  {
   "cell_type": "code",
   "execution_count": null,
   "id": "ac4bff8d-2f3f-4bb5-8ccd-f53de0d4cb67",
   "metadata": {},
   "outputs": [],
   "source": [
    "# Metrics\n",
    "print(metrics)"
   ]
  },
  {
   "cell_type": "code",
   "execution_count": null,
   "id": "af638adb-5e8e-4394-9abf-6a2537142bc3",
   "metadata": {},
   "outputs": [],
   "source": [
    "\n",
    "metrics = metrics.transpose()\n",
    "\n",
    "# Plot the bar chart\n",
    "metrics.plot(kind='bar', figsize=(10, 6))\n",
    "plt.title('Model Performance Metrics')\n",
    "plt.xlabel('Metrics')\n",
    "plt.ylabel('Score')\n",
    "plt.legend(title='Models')\n",
    "plt.xticks(rotation=0)  # Rotate x-axis labels if needed\n",
    "plt.show()\n",
    "plt.savefig('performance_nonum.png')\n"
   ]
  },
  {
   "cell_type": "code",
   "execution_count": null,
   "id": "d72b1131-7b81-4d17-a1cf-2a5c8d347b09",
   "metadata": {},
   "outputs": [],
   "source": [
    "plt.figure(figsize=(10, 6))\n",
    "\n",
    "ax = metrics.plot(kind='bar', figsize=(15, 8))\n",
    "\n",
    "for i in ax.patches:\n",
    "   ax.annotate(f\"{i.get_height()*100:.1f}\", \n",
    "                (i.get_x() + i.get_width() / 2., i.get_height()),\n",
    "                ha='center', va='center',\n",
    "                xytext=(0, 9),\n",
    "                textcoords='offset points')\n",
    "\n",
    "plt.title('Model Performance Metrics')\n",
    "plt.ylabel('Score')\n",
    "plt.xticks(rotation=0)\n",
    "plt.show()\n",
    "plt.savefig('performance_num.png')"
   ]
  },
  {
   "cell_type": "markdown",
   "id": "5d06e593-3219-4bb9-a457-2964ad6c16e0",
   "metadata": {},
   "source": [
    "Confusion Matrix "
   ]
  },
  {
   "cell_type": "code",
   "execution_count": null,
   "id": "a230b81d-aaf0-41fc-a47b-70ef499ed19a",
   "metadata": {},
   "outputs": [],
   "source": [
    "from sklearn.metrics import RocCurveDisplay\n",
    "disp=RocCurveDisplay.from_estimator(svm, X_test_scaled, y_test)\n",
    "RocCurveDisplay.from_estimator(random_forest, X_test_scaled, y_test, ax = disp.ax_);\n",
    "RocCurveDisplay.from_estimator(lr, X_test_scaled, y_test, ax=disp.ax_);\n",
    "plt.plot([0, 1], [0, 1], linestyle='--', color='gray')\n",
    "plt.xlabel(\"False Positive Rate\")\n",
    "plt.ylabel(\"True Positive Rate\")\n",
    "plt.savefig('Auc_Roc.png')\n"
   ]
  },
  {
   "cell_type": "markdown",
   "id": "0bbdf14a-4dcc-4bc9-8563-ef470f959c78",
   "metadata": {},
   "source": [
    "Model Saving"
   ]
  },
  {
   "cell_type": "code",
   "execution_count": null,
   "id": "d66613d4-9e17-4d28-beef-0d8ef40d3e2b",
   "metadata": {},
   "outputs": [],
   "source": [
    "best_model = random_forest"
   ]
  },
  {
   "cell_type": "code",
   "execution_count": 2,
   "id": "84529d07-94f9-4377-9312-48b40bfa1700",
   "metadata": {},
   "outputs": [
    {
     "name": "stdout",
     "output_type": "stream",
     "text": [
      "                     Accuracy  Precision    Recall  F1_score   ROC_AUC\n",
      "Random Forest        0.995972   0.995553  0.998826  0.997187  0.999617\n",
      "SVM                  0.788520   0.797934  0.942944  0.864399  0.850746\n",
      "Logistic Regression  0.637127   0.904046  0.550834  0.684564  0.762275\n",
      "Prediction: [0]\n"
     ]
    }
   ],
   "source": []
  },
  {
   "cell_type": "code",
   "execution_count": null,
   "id": "d571f60f-4bab-4b7d-a814-38905e4a14d7",
   "metadata": {},
   "outputs": [],
   "source": []
  }
 ],
 "metadata": {
  "kernelspec": {
   "display_name": "Python 3 (ipykernel)",
   "language": "python",
   "name": "python3"
  },
  "language_info": {
   "codemirror_mode": {
    "name": "ipython",
    "version": 3
   },
   "file_extension": ".py",
   "mimetype": "text/x-python",
   "name": "python",
   "nbconvert_exporter": "python",
   "pygments_lexer": "ipython3",
   "version": "3.12.5"
  }
 },
 "nbformat": 4,
 "nbformat_minor": 5
}
